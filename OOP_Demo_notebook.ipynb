{
  "nbformat": 4,
  "nbformat_minor": 0,
  "metadata": {
    "colab": {
      "name": "OOP Demo notebook",
      "provenance": [],
      "authorship_tag": "ABX9TyORprr1RAF1tPnVtHkI2Uz2",
      "include_colab_link": true
    },
    "kernelspec": {
      "name": "python3",
      "display_name": "Python 3"
    }
  },
  "cells": [
    {
      "cell_type": "markdown",
      "metadata": {
        "id": "view-in-github",
        "colab_type": "text"
      },
      "source": [
        "<a href=\"https://colab.research.google.com/github/alexyarosh/oopdemotraining/blob/main/OOP_Demo_notebook.ipynb\" target=\"_parent\"><img src=\"https://colab.research.google.com/assets/colab-badge.svg\" alt=\"Open In Colab\"/></a>"
      ]
    },
    {
      "cell_type": "markdown",
      "metadata": {
        "id": "zW7_wj0FTMLI"
      },
      "source": [
        "# Welcome to the Jupyter notebook for the OOP demo training!\n",
        "\n",
        "To run any code cell, hover over the cell and click on the \"Play\" button that appears on the left. Have fun!"
      ]
    },
    {
      "cell_type": "markdown",
      "metadata": {
        "id": "Dk9zR7CNkLMe"
      },
      "source": [
        "# Create a simple empty class"
      ]
    },
    {
      "cell_type": "code",
      "metadata": {
        "id": "jdjMOsFKkOWp"
      },
      "source": [
        "class Customer:\n",
        "  pass\n",
        "\n",
        "cust = Customer()  "
      ],
      "execution_count": null,
      "outputs": []
    },
    {
      "cell_type": "markdown",
      "metadata": {
        "id": "vANyo5slEXaP"
      },
      "source": [
        "# Adding methods"
      ]
    },
    {
      "cell_type": "code",
      "metadata": {
        "id": "GctR5FEOEhW-"
      },
      "source": [
        "class Customer:\n",
        "  def show(self, name):\n",
        "    print(\"I'm \", name)\n",
        "\n",
        "cust = Customer() \n",
        "cust.show(\"Dave\") "
      ],
      "execution_count": null,
      "outputs": []
    },
    {
      "cell_type": "markdown",
      "metadata": {
        "id": "Ydj8pn_-EvyS"
      },
      "source": [
        "# A problem with the class..."
      ]
    },
    {
      "cell_type": "code",
      "metadata": {
        "id": "-RExDXBjE2-a"
      },
      "source": [
        "cust.show(\"Laura\")\n",
        "cust.show(\"a cat\") "
      ],
      "execution_count": null,
      "outputs": []
    },
    {
      "cell_type": "code",
      "metadata": {
        "id": "1o_ygMNEE7sA"
      },
      "source": [
        "cust.show(\"Dave\") "
      ],
      "execution_count": null,
      "outputs": []
    },
    {
      "cell_type": "markdown",
      "metadata": {
        "id": "HfXcfAaQE-S4"
      },
      "source": [
        "# Adding attributes"
      ]
    },
    {
      "cell_type": "code",
      "metadata": {
        "id": "GDNDlAjCFD7T"
      },
      "source": [
        "class Customer:\n",
        "  \n",
        "  def set_name(self, name):\n",
        "    self.name = name\n",
        "\n",
        "  def show(self,):\n",
        "    print(\"I'm \", self.name)\n",
        "\n",
        "cust = Customer()\n",
        "cust.set_name(\"Laura\") \n",
        "cust.show()\n",
        "\n",
        "# This will cause an error\n",
        "cust_new = Customer()\n",
        "cust_new.show()"
      ],
      "execution_count": null,
      "outputs": []
    },
    {
      "cell_type": "markdown",
      "metadata": {
        "id": "gOlOKxcaFnYX"
      },
      "source": [
        "# Quiz # 2 options: "
      ]
    },
    {
      "cell_type": "code",
      "metadata": {
        "id": "Rn35rs9wF37H"
      },
      "source": [
        "class MyCounter:\n",
        "\n",
        "    self.count = 6\n",
        "\n",
        "    def set_count(self, n):\n",
        "        self.count = n\n",
        "\n",
        "mc = MyCounter()\n",
        "mc.count"
      ],
      "execution_count": null,
      "outputs": []
    },
    {
      "cell_type": "code",
      "metadata": {
        "id": "jvSoDP_lGAe8"
      },
      "source": [
        "class MyCounter:\n",
        "\n",
        "    def set_count(self, n):\n",
        "        count = n\n",
        "\n",
        "mc = MyCounter()\n",
        "mc.set_count(6)\n",
        "mc.count"
      ],
      "execution_count": null,
      "outputs": []
    },
    {
      "cell_type": "code",
      "metadata": {
        "id": "adGzOL8MGJjF"
      },
      "source": [
        "class MyCounter:\n",
        "\n",
        "    def set_count(self, n):\n",
        "        self.count = n\n",
        "\n",
        "mc = MyCounter()\n",
        "mc.set_count(6)\n",
        "mc.count"
      ],
      "execution_count": null,
      "outputs": []
    },
    {
      "cell_type": "code",
      "metadata": {
        "id": "OXYKEC0SGOzU"
      },
      "source": [
        "class MyCounter:\n",
        "    \n",
        "    def set_count(self):\n",
        "        self.count = 6\n",
        "\n",
        "mc = MyCounter()\n",
        "mc.count"
      ],
      "execution_count": null,
      "outputs": []
    },
    {
      "cell_type": "markdown",
      "metadata": {
        "id": "FCRzAdRUGa4l"
      },
      "source": [
        "# Constructor"
      ]
    },
    {
      "cell_type": "code",
      "metadata": {
        "id": "AhdCuAwDGfd7"
      },
      "source": [
        "class Customer:\n",
        "    \n",
        "    def __init__(self, name, email, phone=None):\n",
        "        self.name = name\n",
        "        self.email = email\n",
        "        self.phone = phone\n",
        "\n",
        "cust = Customer(\"Lara\", \"lara@dot.com\")    \n",
        "print(cust.email)\n",
        "print(cust.name)\n",
        "print(cust.phone)\n",
        "\n",
        "\n",
        "cust_new = Customer(\"Dave\", \"cooldave@gmail.com\", \"47295727349\")    \n",
        "print(cust_new.email)\n",
        "print(cust_new.name)\n",
        "print(cust_new.phone)"
      ],
      "execution_count": null,
      "outputs": []
    },
    {
      "cell_type": "code",
      "metadata": {
        "id": "X34tKOO0HIks"
      },
      "source": [
        ""
      ],
      "execution_count": null,
      "outputs": []
    },
    {
      "cell_type": "code",
      "metadata": {
        "id": "_PQ0Hda7HFjC"
      },
      "source": [
        ""
      ],
      "execution_count": null,
      "outputs": []
    },
    {
      "cell_type": "code",
      "metadata": {
        "id": "NFaem5ZvGuol"
      },
      "source": [
        ""
      ],
      "execution_count": null,
      "outputs": []
    },
    {
      "cell_type": "markdown",
      "metadata": {
        "id": "oWHj9tRo5pmR"
      },
      "source": [
        "# Challenge time!\n",
        "\n",
        "Define the class  `Point` that has:\n",
        "- _Two attributes, `x` and `y`_ -  the coordinates of the point on the plane;\n",
        "- _A constructor_ that accepts two arguments, `x` and `y`, that initialize the corresponding attributes.\n",
        "These arguments should have default value of `0.0`;\n",
        "- _A method `distance_to_origin()`_ that _returns_ the distance from the point to the origin. The formula for that is $\\sqrt{x^2 + y^2}$. \n",
        "- _A method `reflect()`_, that reflects the point with respect to the x- or y-axis:\n",
        "\t- accepts one argument `axis`,\n",
        "    - if `axis=\"x\"` , it sets the `y` (not a typo!) attribute to the negative value of the `y` attribute,\n",
        "    - if `axis=\"y\"`, it sets the `x` attribute to the negative value of the `x` attribute,\n",
        "    - for any other value of `axis`, prints an error message.\n",
        "# <img src=\"https://assets.datacamp.com/production/repositories/5748/datasets/ae24abb426a181d3785bba89c3130b17f7001704/reflect.png\" width=400, alt=\"Reflection of a point with respect to y and x axes\">"
      ]
    },
    {
      "cell_type": "markdown",
      "metadata": {
        "id": "9o-_nFSA527b"
      },
      "source": [
        "\n",
        "_To check your work, you should be able to run the following code without errors:_\n",
        "```py\n",
        "pt = Point(x=3.0)\n",
        "pt.reflect(\"y\")\n",
        "print((pt.x, pt.y))\n",
        "pt.y = 4.0\n",
        "print(pt.distance_to_origin())\n",
        "```\n",
        "_and return the output_\n",
        "```py\n",
        "(-3.0,0.0)\n",
        "5.0\n",
        "```"
      ]
    },
    {
      "cell_type": "code",
      "metadata": {
        "id": "d5lDJSX07jHx"
      },
      "source": [
        "# Define the point class\n",
        "\n",
        "\n",
        "# You can use this code to check. Make sure you understand what it does!\n",
        "\n",
        "pt = Point(x=3.0)\n",
        "pt.reflect(\"y\")\n",
        "print((pt.x, pt.y))\n",
        "pt.y = 4.0\n",
        "print(pt.distance_to_origin())"
      ],
      "execution_count": null,
      "outputs": []
    }
  ]
}